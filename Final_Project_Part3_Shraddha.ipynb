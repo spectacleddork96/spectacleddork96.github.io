{
 "cells": [
  {
   "cell_type": "markdown",
   "id": "9b3751d4",
   "metadata": {},
   "source": [
    "<center><h1 style=\"font-size:50px;font-family:'Times';\">E-Commerce Product Pricing Strategies And Ratings</h1></center>"
   ]
  },
  {
   "cell_type": "markdown",
   "id": "90e58c70",
   "metadata": {},
   "source": [
    "<center> <h4 style=\"font-size:20px; font-family:'Optima';color:DarkSlateGray\">Analysis of fashion products, their listing and selling prices from the E-commerce website Flipkart to understand various marketing patterns that brands adopt.</h4></center>"
   ]
  },
  {
   "cell_type": "markdown",
   "id": "35ca19e2",
   "metadata": {},
   "source": [
    "<h6 style=\"font-family:'Optima';color:Ivory; background-color:LightSlateGray\"><br>&nbsp; Authors: <br>&nbsp; Prachi Doshi (ppdoshi2)<br>&nbsp; Shraddha Tiwari (tiwari5)</h6>"
   ]
  },
  {
   "cell_type": "markdown",
   "id": "7f7db0ef",
   "metadata": {},
   "source": [
    "<p style=\"font-size:18px; font-family:'Optima'; text-align:justify; text-justify: inter-word; color:DarkSlateGray\"> In this article, we aim to unfold how different categories & sub-categories fare within the market of fashion products. To achieve this, we mapped each Category against its calculated average Actual/Selling Prices which gave us insights into how well the sub-categories falling under each category are priced comparatively against each other. We also try to understand what impact the pricing of different brands has on customer acquisition. Further, we have also considered the average rating of products for each category, to understand the quality and feedback received for products belonging to different categories and sub-categories. </p>\n",
    "\n",
    "<p style=\"font-size:18px; font-family:'Optima'; text-align:justify; text-justify: inter-word; color:DarkSlateGray\"> The dataset that we are using in this article is of an E-commerce website: Flipkart. In this dataset, we have been focusing on the domain of fashion products and aim to understand various marketing patterns that brands adopt and analyze marketing trends according to discounts and features across products.</p>\n"
   ]
  },
  {
   "cell_type": "markdown",
   "id": "ad2f22fc",
   "metadata": {},
   "source": [
    "<p style=\"font-size:18px; font-family:'Optima'; text-align:justify; text-justify: inter-word; color:DarkSlateGray\"><b> About the dataset: </b></p>\n",
    "\n",
    "<p style=\"font-size:18px; font-family:'Optima'; text-align:justify; text-justify: inter-word; color:DarkSlateGray\"> The dataset can be downlaoded in the form of a .json file. The full dataset with its details can be found on the following link from the data.world website: </br>\n",
    "<a href:\"https://data.world/opensnippets/flipkart-fashion-products-dataset\">https://data.world/opensnippets/flipkart-fashion-products-dataset </a><br><br>\n",
    "Size of the dataset: 80MB.</br>\n",
    "Dimensions: The dataset contains 17 columns and 30,000 records. </br>\n",
    "License: Public Domain with no restrictions on usage or type of usage. </p>\n",
    "\n"
   ]
  },
  {
   "cell_type": "markdown",
   "id": "b37b7b50",
   "metadata": {},
   "source": [
    "<p style=\"font-size:18px; font-family:'Optima'; text-align:justify; text-justify: inter-word; color:DarkSlateGray\"><b>Getting all the necessary Libraries and Packages: </b></p>"
   ]
  },
  {
   "cell_type": "code",
   "execution_count": 1,
   "id": "76df9cdf",
   "metadata": {},
   "outputs": [],
   "source": [
    "import matplotlib.pyplot as plt  # For creating and manipulating figures and plotting areas\n",
    "import matplotlib # For creating plots\n",
    "import numpy as np # For numeric representation of the data\n",
    "import pandas as pd # For DataFrame manipulation\n",
    "%matplotlib inline\n",
    "import ipywidgets  # For interactivity\n",
    "from ipywidgets import Dropdown # for the extra interactive widget part\n",
    "from ipywidgets import VBox, HBox, Layout # for the extra interactive widget part\n",
    "import bqplot\n",
    "from bqplot import pyplot as plot\n",
    "from bqplot import Tooltip\n",
    "from bokeh.models import HoverTool\n",
    "from bokeh.io import output_notebook\n",
    "from bokeh.plotting import show\n",
    "import ipywidgets as widgets"
   ]
  },
  {
   "cell_type": "markdown",
   "id": "9c4f1736",
   "metadata": {},
   "source": [
    "<p style=\"font-size:18px; font-family:'Optima'; text-align:justify; text-justify: inter-word; color:DarkSlateGray\"><b>Loading the Dataset:</b></p>\n",
    "\n",
    "<p style=\"font-size:18px; font-family:'Optima'; text-align:justify; text-justify: inter-word; color:DarkSlateGray\">The dataset is in .json format, so we load it as json and then convert it to a Dataframe in order to work on it. We have used a relative path to let the code find the dataset file and load it.<p>\n",
    "\n",
    "<p style=\"font-size:18px; font-family:'Optima'; text-align:justify; text-justify: inter-word; color:DarkSlateGray\">Lets check how the data looks in our loaded Dataframe:</p>"
   ]
  },
  {
   "cell_type": "code",
   "execution_count": 2,
   "id": "5b5d721c",
   "metadata": {},
   "outputs": [
    {
     "data": {
      "text/html": [
       "<div>\n",
       "<style scoped>\n",
       "    .dataframe tbody tr th:only-of-type {\n",
       "        vertical-align: middle;\n",
       "    }\n",
       "\n",
       "    .dataframe tbody tr th {\n",
       "        vertical-align: top;\n",
       "    }\n",
       "\n",
       "    .dataframe thead th {\n",
       "        text-align: right;\n",
       "    }\n",
       "</style>\n",
       "<table border=\"1\" class=\"dataframe\">\n",
       "  <thead>\n",
       "    <tr style=\"text-align: right;\">\n",
       "      <th></th>\n",
       "      <th>_id</th>\n",
       "      <th>actual_price</th>\n",
       "      <th>average_rating</th>\n",
       "      <th>brand</th>\n",
       "      <th>category</th>\n",
       "      <th>crawled_at</th>\n",
       "      <th>description</th>\n",
       "      <th>discount</th>\n",
       "      <th>images</th>\n",
       "      <th>out_of_stock</th>\n",
       "      <th>pid</th>\n",
       "      <th>product_details</th>\n",
       "      <th>seller</th>\n",
       "      <th>selling_price</th>\n",
       "      <th>sub_category</th>\n",
       "      <th>title</th>\n",
       "      <th>url</th>\n",
       "    </tr>\n",
       "  </thead>\n",
       "  <tbody>\n",
       "    <tr>\n",
       "      <th>0</th>\n",
       "      <td>fa8e22d6-c0b6-5229-bb9e-ad52eda39a0a</td>\n",
       "      <td>2,999</td>\n",
       "      <td>3.9</td>\n",
       "      <td>York</td>\n",
       "      <td>Clothing and Accessories</td>\n",
       "      <td>2021-02-10 20:11:51</td>\n",
       "      <td>Yorker trackpants made from 100% rich combed c...</td>\n",
       "      <td>69% off</td>\n",
       "      <td>[https://rukminim1.flixcart.com/image/128/128/...</td>\n",
       "      <td>False</td>\n",
       "      <td>TKPFCZ9EA7H5FYZH</td>\n",
       "      <td>[{'Style Code': '1005COMBO2'}, {'Closure': 'El...</td>\n",
       "      <td>Shyam Enterprises</td>\n",
       "      <td>921</td>\n",
       "      <td>Bottomwear</td>\n",
       "      <td>Solid Men Multicolor Track Pants</td>\n",
       "      <td>https://www.flipkart.com/yorker-solid-men-mult...</td>\n",
       "    </tr>\n",
       "    <tr>\n",
       "      <th>1</th>\n",
       "      <td>893e6980-f2a0-531f-b056-34dd63fe912c</td>\n",
       "      <td>1,499</td>\n",
       "      <td>3.9</td>\n",
       "      <td>York</td>\n",
       "      <td>Clothing and Accessories</td>\n",
       "      <td>2021-02-10 20:11:52</td>\n",
       "      <td>Yorker trackpants made from 100% rich combed c...</td>\n",
       "      <td>66% off</td>\n",
       "      <td>[https://rukminim1.flixcart.com/image/128/128/...</td>\n",
       "      <td>False</td>\n",
       "      <td>TKPFCZ9EJZV2UVRZ</td>\n",
       "      <td>[{'Style Code': '1005BLUE'}, {'Closure': 'Draw...</td>\n",
       "      <td>Shyam Enterprises</td>\n",
       "      <td>499</td>\n",
       "      <td>Bottomwear</td>\n",
       "      <td>Solid Men Blue Track Pants</td>\n",
       "      <td>https://www.flipkart.com/yorker-solid-men-blue...</td>\n",
       "    </tr>\n",
       "    <tr>\n",
       "      <th>2</th>\n",
       "      <td>eb4c8eab-8206-59d0-bcd1-a724d96bf74f</td>\n",
       "      <td>2,999</td>\n",
       "      <td>3.9</td>\n",
       "      <td>York</td>\n",
       "      <td>Clothing and Accessories</td>\n",
       "      <td>2021-02-10 20:11:52</td>\n",
       "      <td>Yorker trackpants made from 100% rich combed c...</td>\n",
       "      <td>68% off</td>\n",
       "      <td>[https://rukminim1.flixcart.com/image/128/128/...</td>\n",
       "      <td>False</td>\n",
       "      <td>TKPFCZ9EHFCY5Z4Y</td>\n",
       "      <td>[{'Style Code': '1005COMBO4'}, {'Closure': 'El...</td>\n",
       "      <td>Shyam Enterprises</td>\n",
       "      <td>931</td>\n",
       "      <td>Bottomwear</td>\n",
       "      <td>Solid Men Multicolor Track Pants</td>\n",
       "      <td>https://www.flipkart.com/yorker-solid-men-mult...</td>\n",
       "    </tr>\n",
       "    <tr>\n",
       "      <th>3</th>\n",
       "      <td>3f3f97bb-5faf-57df-a9ff-1af24e2b1045</td>\n",
       "      <td>2,999</td>\n",
       "      <td>3.9</td>\n",
       "      <td>York</td>\n",
       "      <td>Clothing and Accessories</td>\n",
       "      <td>2021-02-10 20:11:53</td>\n",
       "      <td>Yorker trackpants made from 100% rich combed c...</td>\n",
       "      <td>69% off</td>\n",
       "      <td>[https://rukminim1.flixcart.com/image/128/128/...</td>\n",
       "      <td>False</td>\n",
       "      <td>TKPFCZ9ESZZ7YWEF</td>\n",
       "      <td>[{'Style Code': '1005COMBO3'}, {'Closure': 'El...</td>\n",
       "      <td>Shyam Enterprises</td>\n",
       "      <td>911</td>\n",
       "      <td>Bottomwear</td>\n",
       "      <td>Solid Men Multicolor Track Pants</td>\n",
       "      <td>https://www.flipkart.com/yorker-solid-men-mult...</td>\n",
       "    </tr>\n",
       "    <tr>\n",
       "      <th>4</th>\n",
       "      <td>750caa3d-6264-53ca-8ce1-94118a1d8951</td>\n",
       "      <td>2,999</td>\n",
       "      <td>3.9</td>\n",
       "      <td>York</td>\n",
       "      <td>Clothing and Accessories</td>\n",
       "      <td>2021-02-10 20:11:53</td>\n",
       "      <td>Yorker trackpants made from 100% rich combed c...</td>\n",
       "      <td>68% off</td>\n",
       "      <td>[https://rukminim1.flixcart.com/image/128/128/...</td>\n",
       "      <td>False</td>\n",
       "      <td>TKPFCZ9EVXKBSUD7</td>\n",
       "      <td>[{'Style Code': '1005COMBO1'}, {'Closure': 'Dr...</td>\n",
       "      <td>Shyam Enterprises</td>\n",
       "      <td>943</td>\n",
       "      <td>Bottomwear</td>\n",
       "      <td>Solid Men Brown, Grey Track Pants</td>\n",
       "      <td>https://www.flipkart.com/yorker-solid-men-brow...</td>\n",
       "    </tr>\n",
       "  </tbody>\n",
       "</table>\n",
       "</div>"
      ],
      "text/plain": [
       "                                    _id actual_price average_rating brand  \\\n",
       "0  fa8e22d6-c0b6-5229-bb9e-ad52eda39a0a        2,999            3.9  York   \n",
       "1  893e6980-f2a0-531f-b056-34dd63fe912c        1,499            3.9  York   \n",
       "2  eb4c8eab-8206-59d0-bcd1-a724d96bf74f        2,999            3.9  York   \n",
       "3  3f3f97bb-5faf-57df-a9ff-1af24e2b1045        2,999            3.9  York   \n",
       "4  750caa3d-6264-53ca-8ce1-94118a1d8951        2,999            3.9  York   \n",
       "\n",
       "                   category          crawled_at  \\\n",
       "0  Clothing and Accessories 2021-02-10 20:11:51   \n",
       "1  Clothing and Accessories 2021-02-10 20:11:52   \n",
       "2  Clothing and Accessories 2021-02-10 20:11:52   \n",
       "3  Clothing and Accessories 2021-02-10 20:11:53   \n",
       "4  Clothing and Accessories 2021-02-10 20:11:53   \n",
       "\n",
       "                                         description discount  \\\n",
       "0  Yorker trackpants made from 100% rich combed c...  69% off   \n",
       "1  Yorker trackpants made from 100% rich combed c...  66% off   \n",
       "2  Yorker trackpants made from 100% rich combed c...  68% off   \n",
       "3  Yorker trackpants made from 100% rich combed c...  69% off   \n",
       "4  Yorker trackpants made from 100% rich combed c...  68% off   \n",
       "\n",
       "                                              images  out_of_stock  \\\n",
       "0  [https://rukminim1.flixcart.com/image/128/128/...         False   \n",
       "1  [https://rukminim1.flixcart.com/image/128/128/...         False   \n",
       "2  [https://rukminim1.flixcart.com/image/128/128/...         False   \n",
       "3  [https://rukminim1.flixcart.com/image/128/128/...         False   \n",
       "4  [https://rukminim1.flixcart.com/image/128/128/...         False   \n",
       "\n",
       "                pid                                    product_details  \\\n",
       "0  TKPFCZ9EA7H5FYZH  [{'Style Code': '1005COMBO2'}, {'Closure': 'El...   \n",
       "1  TKPFCZ9EJZV2UVRZ  [{'Style Code': '1005BLUE'}, {'Closure': 'Draw...   \n",
       "2  TKPFCZ9EHFCY5Z4Y  [{'Style Code': '1005COMBO4'}, {'Closure': 'El...   \n",
       "3  TKPFCZ9ESZZ7YWEF  [{'Style Code': '1005COMBO3'}, {'Closure': 'El...   \n",
       "4  TKPFCZ9EVXKBSUD7  [{'Style Code': '1005COMBO1'}, {'Closure': 'Dr...   \n",
       "\n",
       "              seller selling_price sub_category  \\\n",
       "0  Shyam Enterprises           921   Bottomwear   \n",
       "1  Shyam Enterprises           499   Bottomwear   \n",
       "2  Shyam Enterprises           931   Bottomwear   \n",
       "3  Shyam Enterprises           911   Bottomwear   \n",
       "4  Shyam Enterprises           943   Bottomwear   \n",
       "\n",
       "                               title  \\\n",
       "0   Solid Men Multicolor Track Pants   \n",
       "1         Solid Men Blue Track Pants   \n",
       "2   Solid Men Multicolor Track Pants   \n",
       "3   Solid Men Multicolor Track Pants   \n",
       "4  Solid Men Brown, Grey Track Pants   \n",
       "\n",
       "                                                 url  \n",
       "0  https://www.flipkart.com/yorker-solid-men-mult...  \n",
       "1  https://www.flipkart.com/yorker-solid-men-blue...  \n",
       "2  https://www.flipkart.com/yorker-solid-men-mult...  \n",
       "3  https://www.flipkart.com/yorker-solid-men-mult...  \n",
       "4  https://www.flipkart.com/yorker-solid-men-brow...  "
      ]
     },
     "execution_count": 2,
     "metadata": {},
     "output_type": "execute_result"
    }
   ],
   "source": [
    "#with open('https://query.data.world/s/ot6sgxtfaqe7tgtjg7vawrwx6qnbro', encoding='utf-8') as inputfile:\n",
    "df = pd.read_json('https://query.data.world/s/ot6sgxtfaqe7tgtjg7vawrwx6qnbro')\n",
    "df.to_csv('flipkart_fashion_products_dataset_1.csv', encoding='utf-8', index=False)\n",
    "df.head(5)"
   ]
  },
  {
   "cell_type": "markdown",
   "id": "059fbdba",
   "metadata": {},
   "source": [
    "<p style=\"font-size:18px; font-family:'Optima'; text-align:justify; text-justify: inter-word; color:DarkSlateGray\"><b>Data Type Changes:</b></p>\n",
    "\n",
    "<p style=\"font-size:18px; font-family:'Optima'; text-align:justify; text-justify: inter-word; color:DarkSlateGray\">Some of our attributes have datatypes that cannot be directly used for analysis. Hence, convert the datatype of some of these attributes to better suit our analysis. We have also replaced the nan values with 0 for numeric attributes for accurate plotting. <br><br> For Example: Converting the datatype of the attributes actual_price, selling_price, average_rating, discount. And replacing nan in attributes average_rating & discount<p>"
   ]
  },
  {
   "cell_type": "code",
   "execution_count": 3,
   "id": "b14e1747",
   "metadata": {},
   "outputs": [],
   "source": [
    "df = df.astype({'actual_price':'string','selling_price':'string','average_rating':'string', 'discount':'string'})\n",
    "df['actual_price'] = df['actual_price'].str.replace(',', '')\n",
    "df['selling_price'] = df['selling_price'].str.replace(',', '')\n",
    "df['discount'] = df['discount'].str.replace('% off', '')\n",
    "\n",
    "df['actual_price'] = pd.to_numeric(df['actual_price'], errors='coerce')\n",
    "df['selling_price'] = pd.to_numeric(df['selling_price'], errors='coerce')\n",
    "df['average_rating'] = pd.to_numeric(df['average_rating'], errors='coerce')\n",
    "df['discount'] = pd.to_numeric(df['discount'], errors='coerce')\n",
    "\n",
    "df['average_rating'] = df['average_rating'].replace(np.nan, 0)\n",
    "df['discount'] = df['discount'].replace(np.nan, 0)"
   ]
  },
  {
   "cell_type": "markdown",
   "id": "db521277",
   "metadata": {},
   "source": [
    "<p style=\"font-size:18px; font-family:'Optima'; text-align:justify; text-justify: inter-word; color:DarkSlateGray\"><b>Coalation of Sub-Categories:</b></p>\n",
    "<p style=\"font-size:18px; font-family:'Optima'; text-align:justify; text-justify: inter-word; color:DarkSlateGray\">We observed that some of the sub-categories present, mean the same thing as 'Crocks Club Clothing and Accessories' or 'Roy Clothing and Accessories' could be grouped into the sub-category of 'Clothing and Accessories' itself. </br><br>\n",
    "Similarly, we found this pattern for various other sub-categories as well, and we have attempted to clean out this data by clubbing the same meaning sub-categories under the same header as follows. This coalition of sub-categories reduced the unique number of sub-categories from 24 to 13. Simplified sub-categories include Bottomwear, Clothing and Accessories, Winter Wear, Raincoats, Topwear, Innerwear and Swimwear, Ethnic Wear, Formal Wear, Sleep Wear, Bags, Wallets & Belts, Footwear, Fabrics, and Party Supplies.</p>"
   ]
  },
  {
   "cell_type": "code",
   "execution_count": 4,
   "id": "06e4e51a",
   "metadata": {},
   "outputs": [],
   "source": [
    "df['sub_category'].replace(to_replace = ['Clothing Accessories', 'Crocks Club Clothing and Accessories',\n",
    "'Inspire Clothing and Accessories', 'INSPIRE Clothing and Accessories', 'Roy Clothing and Accessories', 'Uber Urban Clothing and Accessories'],\n",
    " value = 'Clothing and Accessories',\n",
    " inplace = True)\n",
    "df['sub_category'].replace(to_replace = ['Kurtas, Ethnic Sets and Bottoms'],value = 'Ethnic Wear',inplace = True)\n",
    "df['sub_category'].replace(to_replace = ['Blazers, Waistcoats and Suits'],value = 'Formal Wear',inplace = True)\n",
    "df['sub_category'].replace(to_replace = ['Sleepwear', 'Tracksuits'],value = 'Sleep Wear',inplace = True)\n",
    "df['sub_category'].replace(to_replace = [\"Men's Footwear\"],value = 'Footwear',inplace = True)\n",
    "df['sub_category'].replace(to_replace = ['SUNSHOPPING Bags, Wallets & Belts', 'Sunshopping Bags, Wallets & Belts', 'Winsome Deal Bags, Wallets & Belts', \n",
    "                                        'YOFAMA Bags, Wallets & Belts', 'Brand Trunk Bags, Wallets & Belts', 'mentiezi Bags, Wallets & Belts'],\n",
    " value = 'Bags, Wallets & Belts',\n",
    " inplace = True)"
   ]
  },
  {
   "cell_type": "markdown",
   "id": "926f3ab8",
   "metadata": {},
   "source": [
    "<p style=\"font-size:18px; font-family:'Optima'; text-align:justify; text-justify: inter-word; color:DarkSlateGray\"><b>Creating new categorical attributes for Ratings and Discounts:</b></p>\n",
    "<p style=\"font-size:18px; font-family:'Optima'; text-align:justify; text-justify: inter-word; color:DarkSlateGray\">After exploring the values of columns 'discount' and 'average_rating', we realize that they are of type continuous numeric. So, in order to utilize these variables as discrete categories, we make a two new categorical variables 'Rating_Group' and 'Discount Range'.<p>"
   ]
  },
  {
   "cell_type": "code",
   "execution_count": 5,
   "id": "dab3638e",
   "metadata": {},
   "outputs": [],
   "source": [
    "#df['discount'].unique()\n",
    "#df['average_rating'].unique()\n",
    "\n",
    "rating_category = pd.cut(df.average_rating,bins=[0,1.0,2.0,3.0,4.0,5.0],labels=['1-Star','2-Star','3-Star','4-Star','5-Star'])\n",
    "df.insert(6,\"Rating_Group\",rating_category)\n",
    "discount_range = pd.cut(df.discount,bins=[0,10,20,30,40,50,60,70,80,90],labels=['Below 10%','10%-20%','20%-30%','30%-40%','40%-50%', '50%-60%', '60%-70%', '70%-80%', 'Above 80%'])\n",
    "df.insert(6,\"Discount Range\",discount_range)"
   ]
  },
  {
   "cell_type": "markdown",
   "id": "854a4992",
   "metadata": {},
   "source": [
    "<p style=\"font-size:18px; font-family:'Optima'; text-align:justify; text-justify: inter-word; color:Ivory; background-color:LightSlateGray\"><br>\n",
    "<b>&nbsp;Stacked Bar Graph for Sub-Category vs Rating Groups</b><br><br></p>"
   ]
  },
  {
   "cell_type": "markdown",
   "id": "d7e34b9f",
   "metadata": {},
   "source": [
    "<p style=\"font-size:18px; font-family:'Optima'; text-align:justify; text-justify: inter-word; color:LightSlateGray; background-color:GhostWhite\"><b>The below visualization gives us insights into the distribution of different rating groups across all sub-categories. By just observing the visualization we can infer that the sub-category having maximum 1-Star ratings is 'Topwear' followed by 'Innerwear & Swimwear' and the sub-category having the maximum 5-Star ratings is 'Bags,Wallets & Belts'.<b><p>"
   ]
  },
  {
   "cell_type": "code",
   "execution_count": 6,
   "id": "3bc07f98",
   "metadata": {},
   "outputs": [
    {
     "data": {
      "text/plain": [
       "<matplotlib.axes._subplots.AxesSubplot at 0x1d1be144d08>"
      ]
     },
     "execution_count": 6,
     "metadata": {},
     "output_type": "execute_result"
    },
    {
     "data": {
      "image/png": "[encoded data removed]",
      "text/plain": [
       "<Figure size 1080x720 with 1 Axes>"
      ]
     },
     "metadata": {
      "needs_background": "light"
     },
     "output_type": "display_data"
    }
   ],
   "source": [
    "stackedBar_data = df[['sub_category', 'Rating_Group']].value_counts().reset_index().rename(columns = {0: 'value'})\n",
    "stackedBar_data = stackedBar_data.loc[stackedBar_data['Rating_Group'] != 'Unknown']\n",
    "stackedBar_data.pivot(index='sub_category', columns='Rating_Group', values='value').plot(kind='bar', stacked = True, figsize=(15,10), title = 'Sub-Category vs Ratings', log=True, colormap='viridis')"
   ]
  },
  {
   "cell_type": "markdown",
   "id": "ecf2f847",
   "metadata": {},
   "source": [
    "<p style=\"font-size:18px; font-family:'Optima'; text-align:justify; text-justify: inter-word; color:Ivory; background-color:LightSlateGray\"><br>\n",
    "<b>&nbsp;Bar Graph for Average Selling Price vs Brands</b><br><br></p>"
   ]
  },
  {
   "cell_type": "markdown",
   "id": "75ccf2fd",
   "metadata": {},
   "source": [
    "<p style=\"font-size:18px; font-family:'Optima'; text-align:justify; text-justify: inter-word; color:LightSlateGray; background-color:GhostWhite\"><br>\n",
    "<b>The below visualization gives us insights into the average selling price distribution of all the brands belonging to a particular sub-category. Here, we can see that 'Lar' has the highest average selling price amongst all other Footwear brands.</b>\n",
    "<br><br></p>\n"
   ]
  },
  {
   "cell_type": "code",
   "execution_count": 7,
   "id": "2d38591e",
   "metadata": {},
   "outputs": [
    {
     "data": {
      "text/plain": [
       "Text(0.5, 1.0, 'Average Selling Price of products per Brand')"
      ]
     },
     "execution_count": 7,
     "metadata": {},
     "output_type": "execute_result"
    },
    {
     "data": {
      "image/png": "[encoded data removed]",
      "text/plain": [
       "<Figure size 1440x1080 with 1 Axes>"
      ]
     },
     "metadata": {
      "needs_background": "light"
     },
     "output_type": "display_data"
    }
   ],
   "source": [
    "fig, ax = plt.subplots(figsize=(20,15)) \n",
    "\n",
    "bar1_data = df[df['sub_category']== 'Formal Wear'].groupby('brand')['selling_price'].mean()\n",
    "ax.bar(bar1_data.index, bar1_data.values, color=\"#02818a\")\n",
    "ax.set_xlabel('Brand', fontsize = 15)\n",
    "ax.set_ylabel('Average Selling Price', fontsize = 15)\n",
    "ax.set_title('Average Selling Price of products per Brand', fontsize = 30)\n"
   ]
  },
  {
   "cell_type": "markdown",
   "id": "ab3a9ce8",
   "metadata": {},
   "source": [
    "<p style=\"font-size:18px; font-family:'Optima'; text-align:justify; text-justify: inter-word; color:DarkSlateGray\"><b>Creating an interactive dashbaord:</b></p>"
   ]
  },
  {
   "cell_type": "code",
   "execution_count": 8,
   "id": "cc6cd83b",
   "metadata": {},
   "outputs": [],
   "source": [
    "# Code for stacked bar chart\n",
    "\n",
    "figa = plot.figure(title = 'Category vs Ratings')\n",
    "df1 = df.groupby([\"sub_category\", \"Rating_Group\"])._id.count().unstack('Rating_Group')\n",
    "\n",
    "sc_x = bqplot.OrdinalScale()\n",
    "sc_y = bqplot.LinearScale()\n",
    "scales = {\"x\": sc_x, \"y\": sc_y}\n",
    "\n",
    "categories = plot.bar(x = df1.index, \n",
    "                 y= [df1['1-Star'],df1['2-Star'],df1['3-Star'],df1['4-Star'],df1['5-Star']],\n",
    "                 scales= scales,\n",
    "                 labels = ['1-Star','2-Star','3-Star','4-Star','5-Star'],\n",
    "                 interactions = {'click': 'select', 'hover': 'tooltip'},\n",
    "                 anchor_style = {'fill': 'white'},\n",
    "                 selected_style={'stroke': 'white', 'stroke-width': 3},\n",
    "                 unselected_style={'opacity':0.5},\n",
    "                 display_legend = True)\n",
    "\n",
    "categories.type = \"stacked\"\n",
    "#categories.colors = bqplot.CATEGORY10\n",
    "categories.colors = ['#fde725','#5ec962','#21918c','#3b528b','#440154']\n",
    "\n",
    "plot.xlabel(\"Category\")\n",
    "plot.ylabel(\"Ratings\")\n",
    "figa.axes[0].tick_rotate = -30\n",
    "figa.axes[0].tick_style = {'text-anchor': 'end', 'offset': '40px', 'font-size': 10}\n",
    "figa.axes[0].label_offset = '55px'\n",
    "figa.legend_location = 'top-left'\n",
    "figa.legend_text = {'font-size': 12}\n",
    "figa.legend_style = {'width': 'auto'}\n",
    "\n",
    "#####################################################################\n",
    "y_range = widgets.IntRangeSlider(value=[1,15000],min=1,max=15000,step=(15000 - 1) / 100,description=\"Y Axis\",disabled=False,continuous_update=False,\n",
    "                        orientation='horizontal',\n",
    "                        readout=True)\n",
    "\n",
    "def updateYAxis(change1):\n",
    "    #Update Y-axis min/max value here\n",
    "    if change1['type'] == 'change' and change1['name'] == 'value':\n",
    "        sc_y.min = change1['new'][0]\n",
    "        sc_y.max = change1['new'][1]\n",
    "    \n",
    "y_range.observe(updateYAxis)\n",
    "figa = widgets.VBox([figa, y_range])\n",
    "\n",
    "#####################################################################\n",
    "# referenced the above version of code for y slider from here:\n",
    "# https://github.com/bqplot/bqplot/issues/712\n",
    "# Code for the vertical bar chart for average selling price\n",
    "\n",
    "figb = plot.figure(title = \"Average Selling Price of products per Brand\")\n",
    "figb.layout.height = \"400px\"\n",
    "figb.layout.width = \"700px\"\n",
    "\n",
    "subset = df.loc[df['category'] == 'Footwear']\n",
    "price_mean = subset.groupby(\"brand\").selling_price.mean()\n",
    "\n",
    "price_plot = plot.bar(x = price_mean.index.tolist(), \n",
    "                       y= price_mean.values.tolist(), \n",
    "                       orientation = 'vertical',\n",
    "                      tick_style ={'font-size': 100})\n",
    "\n",
    "price_plot.colors = [\"#02818a\"]\n",
    "#price_plot.colors = \"palevioletred\"\n",
    "plot.xlabel(\"Brand\")\n",
    "plot.ylabel(\"Average Selling Price\")\n",
    "\n",
    "figb.axes[0].tick_rotate = -60\n",
    "figb.axes[0].tick_style = {'text-anchor': 'end', 'offset': '40px', 'font-size': 10}\n",
    "figb.axes[0].label_offset = '40px'\n",
    "\n",
    "# Code for the vertical bar chart for average actual price\n",
    "\n",
    "figc = plot.figure(title = \"Average Actual Price of products per Brand\")\n",
    "figc.layout.height = \"400px\"\n",
    "figc.layout.width = \"700px\"\n",
    "\n",
    "subset1 = df.loc[df['category'] == 'Footwear']\n",
    "price_mean1 = subset.groupby(\"brand\").actual_price.mean()\n",
    "\n",
    "price_plot1 = plot.bar(x = price_mean1.index.tolist(), \n",
    "                       y= price_mean1.values.tolist(), \n",
    "                       orientation = 'vertical',\n",
    "                      tick_style ={'font-size': 100})\n",
    "\n",
    "price_plot1.colors = [\"#016450\"]\n",
    "plot.xlabel(\"Brand\")\n",
    "plot.ylabel(\"Average Actual Price\")\n",
    "\n",
    "figc.axes[0].tick_rotate = -60\n",
    "figc.axes[0].tick_style = {'text-anchor': 'end', 'offset': '40px', 'font-size': 10}\n",
    "figc.axes[0].label_offset = '40px'"
   ]
  },
  {
   "cell_type": "markdown",
   "id": "58963b80",
   "metadata": {},
   "source": [
    "<p style=\"font-size:18px; font-family:'Optima'; text-align:justify; text-justify: inter-word; color:DarkSlateGray\"><b>Creating output placeholders for tooltips:</b></p>"
   ]
  },
  {
   "cell_type": "code",
   "execution_count": 9,
   "id": "d775a68f",
   "metadata": {},
   "outputs": [],
   "source": [
    "out = ipywidgets.Output()\n",
    "out1 = ipywidgets.Output(layout={'border': '1px solid black', 'margin': '0 0 0 0'})\n",
    "out2 = ipywidgets.Output(layout={'border': '1px solid black', 'margin': '0 0 0 0'})\n",
    "out3 = ipywidgets.Output(layout={'border': '1px solid black', 'margin': '0 0 0 0'})"
   ]
  },
  {
   "cell_type": "markdown",
   "id": "a0bbc0ee",
   "metadata": {},
   "source": [
    "<p style=\"font-size:18px; font-family:'Optima'; text-align:justify; text-justify: inter-word; color:DarkSlateGray\"><b>Adding the code for interactivity in the visualizations:</b></p>"
   ]
  },
  {
   "cell_type": "code",
   "execution_count": 10,
   "id": "8a997f9a",
   "metadata": {},
   "outputs": [],
   "source": [
    "# Code for tooltip for the stacked bar chart\n",
    "def on_hover_categories(_, event):\n",
    "    out1.clear_output()\n",
    "    with out1:\n",
    "        print(f\"Category: {event['data']['x']}\\n\"\\\n",
    "              f\"Rating Group: {df1.columns[event['data']['colorIndex']]}\\n\"\\\n",
    "              f\"Rating Count: {event['data']['y']}\\n\")\n",
    "    categories.tooltip = out1\n",
    "\n",
    "# Code for tooltip for the bar chart    \n",
    "def on_hover_selling_price_mean(_, event):\n",
    "    out2.clear_output()\n",
    "    with out2:\n",
    "        print(f\"Brand: {event['data']['x']}\\n\"\n",
    "              f\"Average Selling Price: {event['data']['y']}\\n\")\n",
    "    price_plot.tooltip = out2\n",
    "\n",
    "# Code for tooltip for the bar chart    \n",
    "def on_hover_actual_price_mean1(_, event):\n",
    "    out3.clear_output()\n",
    "    with out3:\n",
    "        print(f\"Brand: {event['data']['x']}\\n\"\n",
    "              f\"Average Actual Price: {event['data']['y']}\\n\")\n",
    "    price_plot1.tooltip = out3\n",
    "\n",
    "# Calback function to interact with bar plot\n",
    "def on_selected(self, change, df):\n",
    "    #print(change, self)\n",
    "    category_selected = None\n",
    "    if len(self.selected) == 0:\n",
    "            label.value = 'No data selected!!'\n",
    "            return\n",
    "    for mark in self.selected:\n",
    "        category_selected = self.x[mark]\n",
    "\n",
    "    subset = df.loc[df['sub_category'] == category_selected]\n",
    "\n",
    "    price_mean = subset.groupby(\"brand\").selling_price.mean()\n",
    "    \n",
    "    price_plot.x = price_mean.index.tolist()\n",
    "    price_plot.y = price_mean.values.tolist()\n",
    "    \n",
    "    subset1 = df.loc[df['sub_category'] == category_selected]\n",
    "\n",
    "    price_mean1 = subset.groupby(\"brand\").actual_price.mean()\n",
    "    \n",
    "    price_plot1.x = price_mean1.index.tolist()\n",
    "    price_plot1.y = price_mean1.values.tolist()\n",
    "\n",
    "categories.on_hover(on_hover_categories)\n",
    "categories.on_element_click(lambda _, x: on_selected(_, x, df))\n",
    "price_plot.on_hover(on_hover_selling_price_mean)\n",
    "price_plot1.on_hover(on_hover_actual_price_mean1)"
   ]
  },
  {
   "cell_type": "markdown",
   "id": "78863c44",
   "metadata": {},
   "source": [
    "<p style=\"font-size:18px; font-family:'Optima'; text-align:justify; text-justify: inter-word; color:Ivory; background-color:LightSlateGray\"><br>\n",
    "<b>&nbsp;The Dashboard</b><br><br></p>"
   ]
  },
  {
   "cell_type": "markdown",
   "id": "d4b262de",
   "metadata": {},
   "source": [
    "<div style=\"font-size:18px; font-family:'Optima'; text-align:justify; text-justify: inter-word; color:LightSlateGray; background-color:GhostWhite\">\n",
    "\n",
    "<b><p><br>How to use it and what does it show?<br><br>\n",
    "    \n",
    "This visualization gives the user an idea of how all Products within each Sub-category fare in terms of Consumer Ratings. The Bar chart is a stacked visualization, wherein each color code depicts the distribution of the 5 Categories of Rating Groups.<br><br>\n",
    "    \n",
    "<ul>\n",
    "<li>The height of each bar within the chart represents the total ratings received by the products listed under that Sub-category. However, each separate color-coded section within a single stacked bar denotes the division of star ratings. </li><br>\n",
    "    \n",
    "<li>Upon hovering on any section of the visualization, the user can see the Category being highlighted with the hover, the Rating Group, and the count of ratings under that Rating Group.</li><br>\n",
    "    \n",
    "<li>The user can also adjust the scale of the Y-axis to closely examine the Subcategories and their Rating Groups. A slider with this functionality is present just below the graph which enables the user to perform the scaling action on the dynamic visualization.</li><br>\n",
    "    \n",
    "<li>While clicking on the individual bars, the visualization provides an interactive aspect of drilling down to a more granular level. The selection of any Sub-Category in the stacked bar chart will deliver two more bar charts below the dashboard.  Each of these bar charts is a deeper view of the main dashboard graph. </li><br>\n",
    "    \n",
    "<li>The first bar graph represents the view of how different brands are competing in the area of Selling Prices for their products under the clicked Sub-category. This is done by a comparison of the average Selling Price calculated and plotted against the Brands under the Sub-Category. </li><br>\n",
    "    \n",
    "<li>Similarly, the second graph gives an idea of the Actual Price of products listed by their Brands under the clicked Sub-category. This is plotted based on how well the brands fare with the average Actual Price calculated for every brand under the Sub-category.\n",
    "</li>\n",
    "</ul>\n",
    "<br></p></b>\n",
    "</div>"
   ]
  },
  {
   "cell_type": "markdown",
   "id": "be08c4bc",
   "metadata": {},
   "source": [
    "<p style=\"font-size:18px; font-family:'Optima'; text-align:justify; text-justify: inter-word; color:DarkSlateGray\"><b> Creating the dashboard by combining all three visualizations:</b></p>"
   ]
  },
  {
   "cell_type": "code",
   "execution_count": 11,
   "id": "1786762e",
   "metadata": {},
   "outputs": [
    {
     "data": {
      "application/vnd.jupyter.widget-view+json": {
       "model_id": "ef9e2122cba54d88951f20ca3159c64a",
       "version_major": 2,
       "version_minor": 0
      },
      "text/plain": [
       "VBox(children=(VBox(children=(Figure(axes=[Axis(label='Category', label_offset='55px', scale=OrdinalScale(), t…"
      ]
     },
     "metadata": {},
     "output_type": "display_data"
    },
    {
     "data": {
      "text/plain": [
       "ipywidgets.widgets.widget_box.VBox"
      ]
     },
     "execution_count": 11,
     "metadata": {},
     "output_type": "execute_result"
    }
   ],
   "source": [
    "figa.layout.min_width = '100%'\n",
    "figb.layout.min_width = '50%'\n",
    "figc.layout.min_width = '50%'\n",
    "supplementary_plots = ipywidgets.HBox([figb, figc])\n",
    "my_dashboard = ipywidgets.VBox([figa, supplementary_plots])\n",
    "my_dashboard.layout.width = 'auto'\n",
    "# my_dashboard.layout.display = 'flex'\n",
    "display(my_dashboard)\n",
    "type(my_dashboard)"
   ]
  },
  {
   "cell_type": "markdown",
   "id": "75499b5d",
   "metadata": {},
   "source": [
    "<b><p style=\"font-size:18px; font-family:'Optima'; text-align:justify; text-justify: inter-word; color:LightSlateGray; background-color:GhostWhite\"><br>With a comparative view, the user can understand the difference in Brand competition in the market for any selected Subcategory that they select. It provides insights and patterns to understand the placement and pricing of products for improvement.</p></b>"
   ]
  },
  {
   "cell_type": "markdown",
   "id": "e3a0a1cb",
   "metadata": {},
   "source": [
    "<p style=\"font-size:18px; font-family:'Optima'; text-align:justify; text-justify: inter-word; color:Ivory; background-color:LightSlateGray\"><br>\n",
    "<b>&nbsp;Interactive Grouped Bar Chart</b><br><br></p>"
   ]
  },
  {
   "cell_type": "markdown",
   "id": "22f7a27c",
   "metadata": {},
   "source": [
    "<div style=\"font-size:18px; font-family:'Optima'; text-align:justify; text-justify: inter-word; color:LightSlateGray; background-color:GhostWhite\">\n",
    "\n",
    "<b><p><br>How to use it and what does it show?<br><br>\n",
    "    \n",
    "The visualization below tells the user the percentage of products belonging to different Discount Range across each Category and Sub-Category. The Bar chart is a grouped visualization, wherein each colored bar depicts the distribution of the 9 Categories of Discount Range.<br><br>\n",
    "    \n",
    "<ul>\n",
    "<li>The height of each colored bar within the chart represents the total percentage of products within that Category/Sub-Category belonging to the respective Discount Range Category. However, each separate color-coded bar within a single category/sub-category denotes a different Discount Range as mentioned in the legend. </li><br>\n",
    "    \n",
    "<li>The user has the option to select whether they want the distribution of discount range across Categories or Sub-Categories. A dropdown called \"Select_Xaxis\" is present at the very top with options to select either Category or Sub-Category dynamically.</li><br>\n",
    "\n",
    "<li>The user can also select which colormap they want to use for the visualization. This can be done using the \"Color\" dropdown located just below the \"Select-Xaxis\" dropdown.\n",
    "</li>\n",
    "</ul>\n",
    "    \n",
    "<br></p></b>\n",
    "</div>"
   ]
  },
  {
   "cell_type": "code",
   "execution_count": 12,
   "id": "712698d3",
   "metadata": {},
   "outputs": [
    {
     "data": {
      "application/vnd.jupyter.widget-view+json": {
       "model_id": "d1bf7bb398ce4b44a62bd7799a737d6e",
       "version_major": 2,
       "version_minor": 0
      },
      "text/plain": [
       "interactive(children=(Dropdown(description='Select_Xaxis', options=('Category', 'Sub Category'), value='Catego…"
      ]
     },
     "metadata": {},
     "output_type": "display_data"
    }
   ],
   "source": [
    "import seaborn as sns\n",
    "\n",
    "plot_options = ['Category', 'Sub Category']\n",
    "\n",
    "@ipywidgets.interact(Select_Xaxis = plot_options, Color = ['YlGnBu', 'rocket', 'crest', 'magma', 'mako', 'flare', 'rainbow'])\n",
    "def plot_dicount_range(Select_Xaxis, Color):\n",
    "    plt.figure(constrained_layout=True, figsize=(20,15))\n",
    "    \n",
    "    if Select_Xaxis == 'Category':\n",
    "        discount_counts = (df.groupby(['Discount Range'])['category'].value_counts(normalize=True).rename('percentage').mul(100).reset_index().sort_values('category'))\n",
    "        sns.barplot(x=\"category\", y=\"percentage\", hue=\"Discount Range\", data=discount_counts, palette = Color)\n",
    "        plt.xticks(rotation=90, fontsize = 15) \n",
    "        plt.yticks(fontsize = 15)\n",
    "        plt.xlabel(\"Category\", fontsize = 15)\n",
    "        plt.ylabel(\"Percentage of Products\", fontsize = 15)\n",
    "        plt.title(\"Percentage of products belonging to different Discount Range per Category\", fontsize =15)\n",
    "        plt.legend(loc='upper right')\n",
    "\n",
    "    elif Select_Xaxis == 'Sub Category':\n",
    "        discount_counts = (df.groupby(['Discount Range'])['sub_category'].value_counts(normalize=True).rename('percentage').mul(100).reset_index().sort_values('sub_category'))\n",
    "        sns.barplot(x=\"sub_category\", y=\"percentage\", hue=\"Discount Range\", data=discount_counts, palette = Color)\n",
    "        plt.xticks(rotation=90, fontsize = 15) \n",
    "        plt.yticks(fontsize = 15)\n",
    "        plt.xlabel(\"Sub Category\", fontsize = 15)\n",
    "        plt.ylabel(\"Percentage of Products\", fontsize = 15)\n",
    "        plt.title(\"Percentage of products belonging to different Discount Raange per Sub Category\", fontsize =15)\n",
    "        plt.legend(loc='upper right')\n",
    "        \n",
    "        \n",
    "# https://towardsdatascience.com/a-complete-guide-to-plotting-categorical-variables-with-seaborn-bfe54db66bec"
   ]
  },
  {
   "cell_type": "markdown",
   "id": "66c3339c",
   "metadata": {},
   "source": [
    "<b><p style=\"font-size:18px; font-family:'Optima'; text-align:justify; text-justify: inter-word; color:LightSlateGray; background-color:GhostWhite\"><br>\n",
    "This visualization helps us understand which categories and sub-categories have the highest discounts offered. Further, product pricing strategies can also be deciphered with the help of these insights in combination with the data related to the average selling price and average actual price per category/sub-category.<br><br>\n",
    "Some examples of such pricing strategies are as follows:<br>\n",
    " 1.Higher discounts are offered for products belonging to categories/sub-categories having high average selling prices?<br>\n",
    " 2.Lower discounts are offered for products belonging to categories/sub-categories having low average selling prices?\n",
    "<br><br></p></b>"
   ]
  },
  {
   "cell_type": "markdown",
   "id": "028fa2af",
   "metadata": {},
   "source": [
    "<p style=\"font-size:18px; font-family:'Optima'; text-align:justify; text-justify: inter-word; color:Ivory; background-color:LightSlateGray\"><br>\n",
    "<b>&nbsp;Contextual Datasets</b><br><br></p>"
   ]
  },
  {
   "cell_type": "markdown",
   "id": "6cd96e25",
   "metadata": {},
   "source": [
    "<b><p style=\"font-size:18px; font-family:'Optima'; text-align:justify; text-justify: inter-word; color:LightSlateGray; background-color:GhostWhite\"><br>\n",
    "We identified a few similar datasets upon which the idea of this dashboard can be applied to, for getting similar insights:<br><br>\n",
    "1.https://data.world/datafiniti/womens-shoe-prices<br>\n",
    "2.https://data.world/datafiniti/mens-shoe-prices<br>\n",
    "3.https://data.world/datafiniti/amazon-and-best-buy-electronics<br><br>\n",
    "All three datasets consist of raw data and a listing of brands and prices, with ratings and other statistics within the Women’s & Men’s shoe Categories and Amazon & BestBuy electronics. A similar comparative analysis of Brand performance can be plotted using these datasets like the dashboard presented in this notebook. These can be useful in understanding how well the dashboard works, by applying the same procedures and calculations to create visualizations depicting similar insights for a deeper understanding of any specific Category plugged into the Dashboard.\n",
    "<br><br></p></b>"
   ]
  },
  {
   "cell_type": "markdown",
   "id": "90eb4f2e",
   "metadata": {},
   "source": [
    "<p style=\"font-size:18px; font-family:'Optima'; text-align:justify; text-justify: inter-word; color:Ivory; background-color:LightSlateGray\"><br>\n",
    "<b>&nbsp;Contextual Visualization 1 - Women's Shoe Brands vs Average Selling Price</b><br><br></p>"
   ]
  },
  {
   "cell_type": "markdown",
   "id": "e40e7d61",
   "metadata": {},
   "source": [
    "<p style=\"font-size:18px; font-family:'Optima'; text-align:justify; text-justify: inter-word; color:LightSlateGray; background-color:GhostWhite\"><br>\n",
    "<b>The below visualization gives us insights into the average selling price distribution of all the shoe brands for women.\n",
    "This kind of visualization can be useful in determining the \"brand value\" of each brand based on their average selling price.<br><br>\n",
    "Here, we can see that 'Red Wing' has the highest brand value of over '300 Dollars' followed by 'Lowa' having a brand value of around '200 Dollars'. A similar, distribution can also be generated for all the Men's Shoe Brands using the second dataset listed above. For people who might not be well aware of different shoe brands, it’s surprising to see familiar brands like The North Face, UGG, On Footwear be so easily outpriced by brands like Lowa, Red Wing, Scarpa, etc. This can be a result of higher perceived brand value determined by the marketing of the brand than its actual price for each listing.</b>\n",
    "<br><br></p>"
   ]
  },
  {
   "cell_type": "code",
   "execution_count": 13,
   "id": "95851f57",
   "metadata": {},
   "outputs": [
    {
     "data": {
      "text/html": [
       "<div>\n",
       "<style scoped>\n",
       "    .dataframe tbody tr th:only-of-type {\n",
       "        vertical-align: middle;\n",
       "    }\n",
       "\n",
       "    .dataframe tbody tr th {\n",
       "        vertical-align: top;\n",
       "    }\n",
       "\n",
       "    .dataframe thead th {\n",
       "        text-align: right;\n",
       "    }\n",
       "</style>\n",
       "<table border=\"1\" class=\"dataframe\">\n",
       "  <thead>\n",
       "    <tr style=\"text-align: right;\">\n",
       "      <th></th>\n",
       "      <th>id</th>\n",
       "      <th>dateAdded</th>\n",
       "      <th>dateUpdated</th>\n",
       "      <th>asins</th>\n",
       "      <th>brand</th>\n",
       "      <th>categories</th>\n",
       "      <th>primaryCategories</th>\n",
       "      <th>colors</th>\n",
       "      <th>dimension</th>\n",
       "      <th>ean</th>\n",
       "      <th>...</th>\n",
       "      <th>prices.merchant</th>\n",
       "      <th>prices.offer</th>\n",
       "      <th>prices.returnPolicy</th>\n",
       "      <th>prices.shipping</th>\n",
       "      <th>prices.size</th>\n",
       "      <th>prices.sourceURLs</th>\n",
       "      <th>sizes</th>\n",
       "      <th>sourceURLs</th>\n",
       "      <th>upc</th>\n",
       "      <th>weight</th>\n",
       "    </tr>\n",
       "  </thead>\n",
       "  <tbody>\n",
       "    <tr>\n",
       "      <th>0</th>\n",
       "      <td>AVpfEf_hLJeJML431ueH</td>\n",
       "      <td>2015-05-04T12:13:08Z</td>\n",
       "      <td>2018-01-29T04:38:43Z</td>\n",
       "      <td>NaN</td>\n",
       "      <td>Naturalizer</td>\n",
       "      <td>Clothing,Shoes,Women's Shoes,All Women's Shoes...</td>\n",
       "      <td>Shoes</td>\n",
       "      <td>Silver,Cream Watercolor Floral</td>\n",
       "      <td>NaN</td>\n",
       "      <td>NaN</td>\n",
       "      <td>...</td>\n",
       "      <td>Overstock.com</td>\n",
       "      <td>NaN</td>\n",
       "      <td>NaN</td>\n",
       "      <td>NaN</td>\n",
       "      <td>S</td>\n",
       "      <td>https://www.overstock.com/Clothing-Shoes/Women...</td>\n",
       "      <td>6W,9W,7.5W,12W,8.5M,9N,9M,9.5M,10.5M,10W,8.5W,...</td>\n",
       "      <td>https://www.walmart.com/ip/Naturalizer-Danya-W...</td>\n",
       "      <td>017136472311</td>\n",
       "      <td>NaN</td>\n",
       "    </tr>\n",
       "    <tr>\n",
       "      <th>1</th>\n",
       "      <td>AVpi74XfLJeJML43qZAc</td>\n",
       "      <td>2017-01-27T01:23:39Z</td>\n",
       "      <td>2018-01-03T05:21:54Z</td>\n",
       "      <td>NaN</td>\n",
       "      <td>MUK LUKS</td>\n",
       "      <td>Clothing,Shoes,Women's Shoes,Women's Casual Sh...</td>\n",
       "      <td>Shoes</td>\n",
       "      <td>Grey</td>\n",
       "      <td>NaN</td>\n",
       "      <td>3.397705e+10</td>\n",
       "      <td>...</td>\n",
       "      <td>Walmart.com</td>\n",
       "      <td>NaN</td>\n",
       "      <td>NaN</td>\n",
       "      <td>Standard</td>\n",
       "      <td>6</td>\n",
       "      <td>https://www.walmart.com/ip/MUK-LUKS-Womens-Jan...</td>\n",
       "      <td>10,7,6,9,8</td>\n",
       "      <td>https://www.walmart.com/ip/MUK-LUKS-Womens-Jan...</td>\n",
       "      <td>033977045743</td>\n",
       "      <td>NaN</td>\n",
       "    </tr>\n",
       "    <tr>\n",
       "      <th>2</th>\n",
       "      <td>AVpi74XfLJeJML43qZAc</td>\n",
       "      <td>2017-01-27T01:23:39Z</td>\n",
       "      <td>2018-01-03T05:21:54Z</td>\n",
       "      <td>NaN</td>\n",
       "      <td>MUK LUKS</td>\n",
       "      <td>Clothing,Shoes,Women's Shoes,Women's Casual Sh...</td>\n",
       "      <td>Shoes</td>\n",
       "      <td>Grey</td>\n",
       "      <td>NaN</td>\n",
       "      <td>3.397705e+10</td>\n",
       "      <td>...</td>\n",
       "      <td>Slippers Dot Com</td>\n",
       "      <td>NaN</td>\n",
       "      <td>NaN</td>\n",
       "      <td>Value</td>\n",
       "      <td>6</td>\n",
       "      <td>https://www.walmart.com/ip/MUK-LUKS-Womens-Jan...</td>\n",
       "      <td>10,7,6,9,8</td>\n",
       "      <td>https://www.walmart.com/ip/MUK-LUKS-Womens-Jan...</td>\n",
       "      <td>033977045743</td>\n",
       "      <td>NaN</td>\n",
       "    </tr>\n",
       "    <tr>\n",
       "      <th>3</th>\n",
       "      <td>AVpjXyCc1cnluZ0-V-Gj</td>\n",
       "      <td>2017-01-27T01:25:56Z</td>\n",
       "      <td>2018-01-04T11:52:35Z</td>\n",
       "      <td>NaN</td>\n",
       "      <td>MUK LUKS</td>\n",
       "      <td>Clothing,Shoes,Women's Shoes,All Women's Shoes...</td>\n",
       "      <td>Shoes,Shoes</td>\n",
       "      <td>Black</td>\n",
       "      <td>6.0 in x 6.0 in x 1.0 in</td>\n",
       "      <td>3.397705e+10</td>\n",
       "      <td>...</td>\n",
       "      <td>Slippers Dot Com</td>\n",
       "      <td>NaN</td>\n",
       "      <td>NaN</td>\n",
       "      <td>Value</td>\n",
       "      <td>6</td>\n",
       "      <td>https://www.walmart.com/ip/MUK-LUKS-Womens-Daw...</td>\n",
       "      <td>10,7,6,9,8</td>\n",
       "      <td>https://www.walmart.com/ip/MUK-LUKS-Womens-Daw...</td>\n",
       "      <td>033977045903</td>\n",
       "      <td>NaN</td>\n",
       "    </tr>\n",
       "    <tr>\n",
       "      <th>4</th>\n",
       "      <td>AVphGKLPilAPnD_x1Nrm</td>\n",
       "      <td>2017-01-27T01:25:56Z</td>\n",
       "      <td>2018-01-18T03:55:18Z</td>\n",
       "      <td>NaN</td>\n",
       "      <td>MUK LUKS</td>\n",
       "      <td>Clothing,Shoes,Women's Shoes,All Women's Shoes...</td>\n",
       "      <td>Shoes</td>\n",
       "      <td>Grey</td>\n",
       "      <td>6.0 in x 6.0 in x 1.0 in</td>\n",
       "      <td>3.397705e+10</td>\n",
       "      <td>...</td>\n",
       "      <td>Walmart.com</td>\n",
       "      <td>NaN</td>\n",
       "      <td>NaN</td>\n",
       "      <td>Expedited</td>\n",
       "      <td>6</td>\n",
       "      <td>https://www.walmart.com/ip/MUK-LUKS-Womens-Daw...</td>\n",
       "      <td>10,7,6,9,8</td>\n",
       "      <td>https://www.walmart.com/ip/MUK-LUKS-Womens-Daw...</td>\n",
       "      <td>033977045958</td>\n",
       "      <td>NaN</td>\n",
       "    </tr>\n",
       "  </tbody>\n",
       "</table>\n",
       "<p>5 rows × 34 columns</p>\n",
       "</div>"
      ],
      "text/plain": [
       "                     id             dateAdded           dateUpdated asins  \\\n",
       "0  AVpfEf_hLJeJML431ueH  2015-05-04T12:13:08Z  2018-01-29T04:38:43Z   NaN   \n",
       "1  AVpi74XfLJeJML43qZAc  2017-01-27T01:23:39Z  2018-01-03T05:21:54Z   NaN   \n",
       "2  AVpi74XfLJeJML43qZAc  2017-01-27T01:23:39Z  2018-01-03T05:21:54Z   NaN   \n",
       "3  AVpjXyCc1cnluZ0-V-Gj  2017-01-27T01:25:56Z  2018-01-04T11:52:35Z   NaN   \n",
       "4  AVphGKLPilAPnD_x1Nrm  2017-01-27T01:25:56Z  2018-01-18T03:55:18Z   NaN   \n",
       "\n",
       "         brand                                         categories  \\\n",
       "0  Naturalizer  Clothing,Shoes,Women's Shoes,All Women's Shoes...   \n",
       "1     MUK LUKS  Clothing,Shoes,Women's Shoes,Women's Casual Sh...   \n",
       "2     MUK LUKS  Clothing,Shoes,Women's Shoes,Women's Casual Sh...   \n",
       "3     MUK LUKS  Clothing,Shoes,Women's Shoes,All Women's Shoes...   \n",
       "4     MUK LUKS  Clothing,Shoes,Women's Shoes,All Women's Shoes...   \n",
       "\n",
       "  primaryCategories                          colors                 dimension  \\\n",
       "0             Shoes  Silver,Cream Watercolor Floral                       NaN   \n",
       "1             Shoes                            Grey                       NaN   \n",
       "2             Shoes                            Grey                       NaN   \n",
       "3       Shoes,Shoes                           Black  6.0 in x 6.0 in x 1.0 in   \n",
       "4             Shoes                            Grey  6.0 in x 6.0 in x 1.0 in   \n",
       "\n",
       "            ean  ...   prices.merchant prices.offer prices.returnPolicy  \\\n",
       "0           NaN  ...     Overstock.com          NaN                 NaN   \n",
       "1  3.397705e+10  ...       Walmart.com          NaN                 NaN   \n",
       "2  3.397705e+10  ...  Slippers Dot Com          NaN                 NaN   \n",
       "3  3.397705e+10  ...  Slippers Dot Com          NaN                 NaN   \n",
       "4  3.397705e+10  ...       Walmart.com          NaN                 NaN   \n",
       "\n",
       "  prices.shipping prices.size  \\\n",
       "0             NaN           S   \n",
       "1        Standard           6   \n",
       "2           Value           6   \n",
       "3           Value           6   \n",
       "4       Expedited           6   \n",
       "\n",
       "                                   prices.sourceURLs  \\\n",
       "0  https://www.overstock.com/Clothing-Shoes/Women...   \n",
       "1  https://www.walmart.com/ip/MUK-LUKS-Womens-Jan...   \n",
       "2  https://www.walmart.com/ip/MUK-LUKS-Womens-Jan...   \n",
       "3  https://www.walmart.com/ip/MUK-LUKS-Womens-Daw...   \n",
       "4  https://www.walmart.com/ip/MUK-LUKS-Womens-Daw...   \n",
       "\n",
       "                                               sizes  \\\n",
       "0  6W,9W,7.5W,12W,8.5M,9N,9M,9.5M,10.5M,10W,8.5W,...   \n",
       "1                                         10,7,6,9,8   \n",
       "2                                         10,7,6,9,8   \n",
       "3                                         10,7,6,9,8   \n",
       "4                                         10,7,6,9,8   \n",
       "\n",
       "                                          sourceURLs           upc weight  \n",
       "0  https://www.walmart.com/ip/Naturalizer-Danya-W...  017136472311    NaN  \n",
       "1  https://www.walmart.com/ip/MUK-LUKS-Womens-Jan...  033977045743    NaN  \n",
       "2  https://www.walmart.com/ip/MUK-LUKS-Womens-Jan...  033977045743    NaN  \n",
       "3  https://www.walmart.com/ip/MUK-LUKS-Womens-Daw...  033977045903    NaN  \n",
       "4  https://www.walmart.com/ip/MUK-LUKS-Womens-Daw...  033977045958    NaN  \n",
       "\n",
       "[5 rows x 34 columns]"
      ]
     },
     "execution_count": 13,
     "metadata": {},
     "output_type": "execute_result"
    }
   ],
   "source": [
    "# womens shoes dataset:\n",
    "womens_shoes = pd.read_csv('https://query.data.world/s/sbgqtdvbxx3a3twxmhc67ibie2vsi4')\n",
    "womens_shoes.head()"
   ]
  },
  {
   "cell_type": "code",
   "execution_count": 14,
   "id": "47f153c0",
   "metadata": {},
   "outputs": [],
   "source": [
    "# womens_shoes.info()\n",
    "womens_shoes = womens_shoes.astype({'brand':'string','categories':'string'})\n",
    "# renaming the cols we want to use:\n",
    "womens_shoes.rename(columns = {'prices.amountMax':'prices_amountMax', 'prices.amountMin':'prices_amountMin'}, inplace = True)"
   ]
  },
  {
   "cell_type": "code",
   "execution_count": 15,
   "id": "31a01d9a",
   "metadata": {},
   "outputs": [
    {
     "data": {
      "application/vnd.jupyter.widget-view+json": {
       "model_id": "5c7a8fa8c43245df80c2db6a26cb5b7b",
       "version_major": 2,
       "version_minor": 0
      },
      "text/plain": [
       "Figure(axes=[Axis(label='Brands', label_offset='40px', scale=OrdinalScale(), tick_rotate=-90, tick_style={'tex…"
      ]
     },
     "metadata": {},
     "output_type": "display_data"
    }
   ],
   "source": [
    "figd = plot.figure(title = \"Average Selling Price of Women's Shoes by Luxury Brand\")\n",
    "\n",
    "figd.layout.height = \"500px\"\n",
    "figd.layout.width = \"950px\"\n",
    "price_mean_shoes = womens_shoes.groupby(\"brand\").prices_amountMax.mean()\n",
    "price_mean_shoes = price_mean_shoes[price_mean_shoes >= 100]\n",
    "price_mean_shoes = price_mean_shoes.sort_values(ascending= True)\n",
    "#price_mean\n",
    "price_plot_shoes = plot.bar(x = price_mean_shoes.index.tolist(),y= price_mean_shoes.values.tolist(), orientation = 'vertical',tick_style ={'font-size': 100, 'font-type': 'bold'})\n",
    "\n",
    "price_plot_shoes.colors = \"#02818a\"\n",
    "plot.xlabel(\"Brands\")\n",
    "plot.ylabel(\"Average Selling Price\")\n",
    "\n",
    "figd.axes[0].tick_rotate = -90\n",
    "figd.axes[0].tick_style = {'text-anchor': 'end', 'offset': '40px', 'font-size': 10}\n",
    "figd.axes[0].label_offset = '40px'\n",
    "figd"
   ]
  },
  {
   "cell_type": "markdown",
   "id": "d7d7766b",
   "metadata": {},
   "source": [
    "<p style=\"font-size:18px; font-family:'Optima'; text-align:justify; text-justify: inter-word; color:Ivory; background-color:LightSlateGray\"><br>\n",
    "<b>&nbsp;Contextual Visualization 2 - Women's Shoe Brands vs Average Selling Price</b><br><br></p>"
   ]
  },
  {
   "cell_type": "markdown",
   "id": "852084d1",
   "metadata": {},
   "source": [
    "<p style=\"font-size:18px; font-family:'Optima'; text-align:justify; text-justify: inter-word; color:LightSlateGray; background-color:GhostWhite\"><br>\n",
    "<b>The below visualization is from an article related to the above Women and Men shoes dataset. Link to the article is https://datafiniti.co/cost-of-designer-label/. <br><br>\n",
    "The aim of the visualization is to determine how brands use price as a signal for their \"premium status\". They found out that many brands had similar price clusters with these clusters moving around the price range in the same patterns. Further, they categorized these patterns into three distinct curves as follows:<br><br>\n",
    "1. Normal Pricing: The price bucket counts follow a normal distribution for this brand.<br>\n",
    "2. Premium Anchor: This brand has multiple products priced significantly higher than the largest cluster of prices.<br>\n",
    "3. Double Dip: There are 2 more overlapping normal distributions of prices for this brand.<br><br>\n",
    "According to the article, every brand uses one of the above pricing strategies. Further, they discovered that the Premium Anchor brands try to manifest a marquee perception(pulling/attracting power) in consumers’ minds. This enables them to fall into the fine category between luxury and value branding. Whereas, the Double Dip brand has its own set of consumers and mostly acts as an aspirational brand for other consumers.</b>\n",
    "<br><br></p>"
   ]
  },
  {
   "cell_type": "markdown",
   "id": "b71b63f5",
   "metadata": {},
   "source": [
    "<img src='https://datafiniti.co/wp-content/uploads/2016/03/distributions-533x1024.png'> </img>"
   ]
  },
  {
   "cell_type": "markdown",
   "id": "84dfba5f",
   "metadata": {},
   "source": [
    "<p style=\"font-size:18px; font-family:'Optima'; text-align:justify; text-justify: inter-word; color:Ivory; background-color:LightSlateGray\"><br>\n",
    "<b>&nbsp;Contextual Visualization 3 - Brands vs Ratings of Electronic products on Amazon and BestBuy </b><br><br></p>"
   ]
  },
  {
   "cell_type": "markdown",
   "id": "03d2694c",
   "metadata": {},
   "source": [
    "<p style=\"font-size:18px; font-family:'Optima'; text-align:justify; text-justify: inter-word; color:LightSlateGray; background-color:GhostWhite\"><br>\n",
    "<b>The below visualization gives us insights into the distribution of different rating groups across all electronics brands just like the primary visualization of our dashboard. By just observing the visualization we can infer that the brand having maximum 1-Star ratings is 'Logitech' followed by 'JBL'.<br><br>\n",
    "This visualization can be used by users to understand the brand product performance from other customers’ points of view and on the other hand, the visualization can also be used by different brands to learn about the performance of their competitors on Amazon/BestBuy. Additionally. brands can also make use of this analysis to improve their product quality and improve customer satisfaction.\n",
    "</b>\n",
    "<br><br></p>"
   ]
  },
  {
   "cell_type": "code",
   "execution_count": 16,
   "id": "86d7812c",
   "metadata": {},
   "outputs": [
    {
     "data": {
      "text/html": [
       "<div>\n",
       "<style scoped>\n",
       "    .dataframe tbody tr th:only-of-type {\n",
       "        vertical-align: middle;\n",
       "    }\n",
       "\n",
       "    .dataframe tbody tr th {\n",
       "        vertical-align: top;\n",
       "    }\n",
       "\n",
       "    .dataframe thead th {\n",
       "        text-align: right;\n",
       "    }\n",
       "</style>\n",
       "<table border=\"1\" class=\"dataframe\">\n",
       "  <thead>\n",
       "    <tr style=\"text-align: right;\">\n",
       "      <th></th>\n",
       "      <th>id</th>\n",
       "      <th>asins</th>\n",
       "      <th>brand</th>\n",
       "      <th>categories</th>\n",
       "      <th>colors</th>\n",
       "      <th>dateAdded</th>\n",
       "      <th>dateUpdated</th>\n",
       "      <th>dimension</th>\n",
       "      <th>ean</th>\n",
       "      <th>imageURLs</th>\n",
       "      <th>...</th>\n",
       "      <th>reviews.doRecommend</th>\n",
       "      <th>reviews.numHelpful</th>\n",
       "      <th>reviews.rating</th>\n",
       "      <th>reviews.sourceURLs</th>\n",
       "      <th>reviews.text</th>\n",
       "      <th>reviews.title</th>\n",
       "      <th>reviews.username</th>\n",
       "      <th>sourceURLs</th>\n",
       "      <th>upc</th>\n",
       "      <th>weight</th>\n",
       "    </tr>\n",
       "  </thead>\n",
       "  <tbody>\n",
       "    <tr>\n",
       "      <th>0</th>\n",
       "      <td>AVpf3txeLJeJML43FN82</td>\n",
       "      <td>B0168YIWSI</td>\n",
       "      <td>Microsoft</td>\n",
       "      <td>Electronics,Computers,Computer Accessories,Key...</td>\n",
       "      <td>Black</td>\n",
       "      <td>2015-11-13T12:28:09Z</td>\n",
       "      <td>2018-01-29T02:15:13Z</td>\n",
       "      <td>11.6 in x 8.5 in x 0.19 in</td>\n",
       "      <td>8.900000e+11</td>\n",
       "      <td>https://i5.walmartimages.com/asr/2a41f6f0-844e...</td>\n",
       "      <td>...</td>\n",
       "      <td>True</td>\n",
       "      <td>0.0</td>\n",
       "      <td>5.0</td>\n",
       "      <td>http://reviews.bestbuy.com/3545/4562009/review...</td>\n",
       "      <td>This keyboard is very easy to type on, but the...</td>\n",
       "      <td>Love the fingerprint reader</td>\n",
       "      <td>JNH1</td>\n",
       "      <td>https://www.walmart.com/ip/Microsoft-Surface-P...</td>\n",
       "      <td>8.900000e+11</td>\n",
       "      <td>1.1 pounds</td>\n",
       "    </tr>\n",
       "    <tr>\n",
       "      <th>1</th>\n",
       "      <td>AVpf3txeLJeJML43FN82</td>\n",
       "      <td>B0168YIWSI</td>\n",
       "      <td>Microsoft</td>\n",
       "      <td>Electronics,Computers,Computer Accessories,Key...</td>\n",
       "      <td>Black</td>\n",
       "      <td>2015-11-13T12:28:09Z</td>\n",
       "      <td>2018-01-29T02:15:13Z</td>\n",
       "      <td>11.6 in x 8.5 in x 0.19 in</td>\n",
       "      <td>8.900000e+11</td>\n",
       "      <td>https://i5.walmartimages.com/asr/2a41f6f0-844e...</td>\n",
       "      <td>...</td>\n",
       "      <td>True</td>\n",
       "      <td>0.0</td>\n",
       "      <td>4.0</td>\n",
       "      <td>http://reviews.bestbuy.com/3545/4562009/review...</td>\n",
       "      <td>It's thin and light. I can type pretty easily ...</td>\n",
       "      <td>Nice</td>\n",
       "      <td>Appa</td>\n",
       "      <td>https://www.walmart.com/ip/Microsoft-Surface-P...</td>\n",
       "      <td>8.900000e+11</td>\n",
       "      <td>1.1 pounds</td>\n",
       "    </tr>\n",
       "    <tr>\n",
       "      <th>2</th>\n",
       "      <td>AVpf3txeLJeJML43FN82</td>\n",
       "      <td>B0168YIWSI</td>\n",
       "      <td>Microsoft</td>\n",
       "      <td>Electronics,Computers,Computer Accessories,Key...</td>\n",
       "      <td>Black</td>\n",
       "      <td>2015-11-13T12:28:09Z</td>\n",
       "      <td>2018-01-29T02:15:13Z</td>\n",
       "      <td>11.6 in x 8.5 in x 0.19 in</td>\n",
       "      <td>8.900000e+11</td>\n",
       "      <td>https://i5.walmartimages.com/asr/2a41f6f0-844e...</td>\n",
       "      <td>...</td>\n",
       "      <td>True</td>\n",
       "      <td>0.0</td>\n",
       "      <td>4.0</td>\n",
       "      <td>http://reviews.bestbuy.com/3545/4562009/review...</td>\n",
       "      <td>I love the new design the keys are spaced well...</td>\n",
       "      <td>New</td>\n",
       "      <td>Kman</td>\n",
       "      <td>https://www.walmart.com/ip/Microsoft-Surface-P...</td>\n",
       "      <td>8.900000e+11</td>\n",
       "      <td>1.1 pounds</td>\n",
       "    </tr>\n",
       "    <tr>\n",
       "      <th>3</th>\n",
       "      <td>AVpf3txeLJeJML43FN82</td>\n",
       "      <td>B0168YIWSI</td>\n",
       "      <td>Microsoft</td>\n",
       "      <td>Electronics,Computers,Computer Accessories,Key...</td>\n",
       "      <td>Black</td>\n",
       "      <td>2015-11-13T12:28:09Z</td>\n",
       "      <td>2018-01-29T02:15:13Z</td>\n",
       "      <td>11.6 in x 8.5 in x 0.19 in</td>\n",
       "      <td>8.900000e+11</td>\n",
       "      <td>https://i5.walmartimages.com/asr/2a41f6f0-844e...</td>\n",
       "      <td>...</td>\n",
       "      <td>True</td>\n",
       "      <td>0.0</td>\n",
       "      <td>5.0</td>\n",
       "      <td>http://reviews.bestbuy.com/3545/4562009/review...</td>\n",
       "      <td>Attached easily and firmly. Has a nice feel. A...</td>\n",
       "      <td>Nice keyboard</td>\n",
       "      <td>UpstateNY</td>\n",
       "      <td>https://www.walmart.com/ip/Microsoft-Surface-P...</td>\n",
       "      <td>8.900000e+11</td>\n",
       "      <td>1.1 pounds</td>\n",
       "    </tr>\n",
       "    <tr>\n",
       "      <th>4</th>\n",
       "      <td>AVpf3txeLJeJML43FN82</td>\n",
       "      <td>B0168YIWSI</td>\n",
       "      <td>Microsoft</td>\n",
       "      <td>Electronics,Computers,Computer Accessories,Key...</td>\n",
       "      <td>Black</td>\n",
       "      <td>2015-11-13T12:28:09Z</td>\n",
       "      <td>2018-01-29T02:15:13Z</td>\n",
       "      <td>11.6 in x 8.5 in x 0.19 in</td>\n",
       "      <td>8.900000e+11</td>\n",
       "      <td>https://i5.walmartimages.com/asr/2a41f6f0-844e...</td>\n",
       "      <td>...</td>\n",
       "      <td>True</td>\n",
       "      <td>0.0</td>\n",
       "      <td>5.0</td>\n",
       "      <td>http://reviews.bestbuy.com/3545/4562009/review...</td>\n",
       "      <td>Our original keyboard was okay, but did not ha...</td>\n",
       "      <td>Nice improvement</td>\n",
       "      <td>Glickster</td>\n",
       "      <td>https://www.walmart.com/ip/Microsoft-Surface-P...</td>\n",
       "      <td>8.900000e+11</td>\n",
       "      <td>1.1 pounds</td>\n",
       "    </tr>\n",
       "  </tbody>\n",
       "</table>\n",
       "<p>5 rows × 27 columns</p>\n",
       "</div>"
      ],
      "text/plain": [
       "                     id       asins      brand  \\\n",
       "0  AVpf3txeLJeJML43FN82  B0168YIWSI  Microsoft   \n",
       "1  AVpf3txeLJeJML43FN82  B0168YIWSI  Microsoft   \n",
       "2  AVpf3txeLJeJML43FN82  B0168YIWSI  Microsoft   \n",
       "3  AVpf3txeLJeJML43FN82  B0168YIWSI  Microsoft   \n",
       "4  AVpf3txeLJeJML43FN82  B0168YIWSI  Microsoft   \n",
       "\n",
       "                                          categories colors  \\\n",
       "0  Electronics,Computers,Computer Accessories,Key...  Black   \n",
       "1  Electronics,Computers,Computer Accessories,Key...  Black   \n",
       "2  Electronics,Computers,Computer Accessories,Key...  Black   \n",
       "3  Electronics,Computers,Computer Accessories,Key...  Black   \n",
       "4  Electronics,Computers,Computer Accessories,Key...  Black   \n",
       "\n",
       "              dateAdded           dateUpdated                   dimension  \\\n",
       "0  2015-11-13T12:28:09Z  2018-01-29T02:15:13Z  11.6 in x 8.5 in x 0.19 in   \n",
       "1  2015-11-13T12:28:09Z  2018-01-29T02:15:13Z  11.6 in x 8.5 in x 0.19 in   \n",
       "2  2015-11-13T12:28:09Z  2018-01-29T02:15:13Z  11.6 in x 8.5 in x 0.19 in   \n",
       "3  2015-11-13T12:28:09Z  2018-01-29T02:15:13Z  11.6 in x 8.5 in x 0.19 in   \n",
       "4  2015-11-13T12:28:09Z  2018-01-29T02:15:13Z  11.6 in x 8.5 in x 0.19 in   \n",
       "\n",
       "            ean                                          imageURLs  ...  \\\n",
       "0  8.900000e+11  https://i5.walmartimages.com/asr/2a41f6f0-844e...  ...   \n",
       "1  8.900000e+11  https://i5.walmartimages.com/asr/2a41f6f0-844e...  ...   \n",
       "2  8.900000e+11  https://i5.walmartimages.com/asr/2a41f6f0-844e...  ...   \n",
       "3  8.900000e+11  https://i5.walmartimages.com/asr/2a41f6f0-844e...  ...   \n",
       "4  8.900000e+11  https://i5.walmartimages.com/asr/2a41f6f0-844e...  ...   \n",
       "\n",
       "  reviews.doRecommend reviews.numHelpful reviews.rating  \\\n",
       "0                True                0.0            5.0   \n",
       "1                True                0.0            4.0   \n",
       "2                True                0.0            4.0   \n",
       "3                True                0.0            5.0   \n",
       "4                True                0.0            5.0   \n",
       "\n",
       "                                  reviews.sourceURLs  \\\n",
       "0  http://reviews.bestbuy.com/3545/4562009/review...   \n",
       "1  http://reviews.bestbuy.com/3545/4562009/review...   \n",
       "2  http://reviews.bestbuy.com/3545/4562009/review...   \n",
       "3  http://reviews.bestbuy.com/3545/4562009/review...   \n",
       "4  http://reviews.bestbuy.com/3545/4562009/review...   \n",
       "\n",
       "                                        reviews.text  \\\n",
       "0  This keyboard is very easy to type on, but the...   \n",
       "1  It's thin and light. I can type pretty easily ...   \n",
       "2  I love the new design the keys are spaced well...   \n",
       "3  Attached easily and firmly. Has a nice feel. A...   \n",
       "4  Our original keyboard was okay, but did not ha...   \n",
       "\n",
       "                 reviews.title reviews.username  \\\n",
       "0  Love the fingerprint reader             JNH1   \n",
       "1                         Nice             Appa   \n",
       "2                          New             Kman   \n",
       "3                Nice keyboard        UpstateNY   \n",
       "4             Nice improvement        Glickster   \n",
       "\n",
       "                                          sourceURLs           upc      weight  \n",
       "0  https://www.walmart.com/ip/Microsoft-Surface-P...  8.900000e+11  1.1 pounds  \n",
       "1  https://www.walmart.com/ip/Microsoft-Surface-P...  8.900000e+11  1.1 pounds  \n",
       "2  https://www.walmart.com/ip/Microsoft-Surface-P...  8.900000e+11  1.1 pounds  \n",
       "3  https://www.walmart.com/ip/Microsoft-Surface-P...  8.900000e+11  1.1 pounds  \n",
       "4  https://www.walmart.com/ip/Microsoft-Surface-P...  8.900000e+11  1.1 pounds  \n",
       "\n",
       "[5 rows x 27 columns]"
      ]
     },
     "execution_count": 16,
     "metadata": {},
     "output_type": "execute_result"
    }
   ],
   "source": [
    "electronics = pd.read_csv('https://query.data.world/s/2kkaqcwqxe5p2ove6y2corsqfdajgr')\n",
    "electronics.head()"
   ]
  },
  {
   "cell_type": "code",
   "execution_count": 17,
   "id": "dfd2b0f0",
   "metadata": {},
   "outputs": [],
   "source": [
    "electronics = electronics.astype({'brand':'string'})\n",
    "electronics['reviews.rating'] = electronics['reviews.rating'].replace(np.nan, 0)"
   ]
  },
  {
   "cell_type": "code",
   "execution_count": 18,
   "id": "b53f9ccd",
   "metadata": {},
   "outputs": [
    {
     "data": {
      "text/plain": [
       "<matplotlib.axes._subplots.AxesSubplot at 0x1d1be4df308>"
      ]
     },
     "execution_count": 18,
     "metadata": {},
     "output_type": "execute_result"
    },
    {
     "data": {
      "image/png": "[encoded data removed]",
      "text/plain": [
       "<Figure size 1080x720 with 1 Axes>"
      ]
     },
     "metadata": {
      "needs_background": "light"
     },
     "output_type": "display_data"
    }
   ],
   "source": [
    "colors = [\"#c7e9b4\",\"#7fcdbb\",\"#41b6c4\",\"#1d91c0\",\"#225ea8\",\"#0c2c84\"]\n",
    "\n",
    "electronics_stackedBar = electronics[['brand', 'reviews.rating']].value_counts().reset_index().rename(columns = {0: 'value'})\n",
    "electronics_stackedBar = electronics_stackedBar.loc[electronics_stackedBar['reviews.rating'] != 'Unknown']\n",
    "electronics_stackedBar.pivot(index='brand', columns='reviews.rating', values='value').plot(kind='bar', stacked = True, figsize=(15,10), title = 'Brand vs Ratings', log=True, colormap='viridis')"
   ]
  },
  {
   "cell_type": "markdown",
   "id": "fee07e2d",
   "metadata": {},
   "source": [
    "<p style=\"font-size:18px; font-family:'Optima'; text-align:justify; text-justify: inter-word; color:Ivory; background-color:LightSlateGray\"><br>\n",
    "<b>&nbsp;Learnings - What I learned New</b><br><br></p>"
   ]
  },
  {
   "cell_type": "markdown",
   "id": "14ec0e33",
   "metadata": {},
   "source": [
    "<p style=\"font-size:18px; font-family:'Optima'; text-align:justify; text-justify: inter-word; color:LightSlateGray; background-color:GhostWhite\"><br>\n",
    "<b>\n",
    "The understanding of Contextual Plots was new for me. A similar type of dataset from a similar domain can easily be interpreted in the same way as we displayed our data and gathered insights from it. I realized that while creating visualizations, contextuality is important to be able to recognize the usefulness of the visualizations. The process of searching for similar data and drawing contextually the same insights has been a great learning experience for understanding the effectiveness of visualizations.\n",
    "</b>\n",
    "<br><br></p>"
   ]
  },
  {
   "cell_type": "markdown",
   "id": "d55929e2",
   "metadata": {},
   "source": [
    "<p style=\"font-size:18px; font-family:'Optima'; text-align:justify; text-justify: inter-word; color:Ivory; background-color:LightSlateGray\"><br>\n",
    "<b>&nbsp;Learnings - What I learned from my Teammate</b><br><br></p>"
   ]
  },
  {
   "cell_type": "markdown",
   "id": "aa45a890",
   "metadata": {},
   "source": [
    "<p style=\"font-size:18px; font-family:'Optima'; text-align:justify; text-justify: inter-word; color:LightSlateGray; background-color:GhostWhite\"><br>\n",
    "<b>\n",
    "My teammate Prachi suggested the idea of following a storyline with explanations of what we are trying to visualize with our datasets. My initial approach was to keep all the text together at the end of the Jupyter notebook for small explanations and comments regarding the various steps within the notebook. <br><br>\n",
    "But my Teammate suggested that it would be a flow of the story - storyline if you will - for any user or a reader to understand the conversions of data and the step-by-step analysis that we present within this visualization. This helped me understand the importance of data storytelling for the Public Visualization section of this project.\n",
    "</b>\n",
    "<br><br></p>"
   ]
  },
  {
   "cell_type": "markdown",
   "id": "ec9e495a",
   "metadata": {},
   "source": [
    "<p style=\"font-size:18px; font-family:'Optima'; text-align:justify; text-justify: inter-word; color:Ivory; background-color:LightSlateGray\"><br>\n",
    "<b>&nbsp;The Plan followed and what could be done Differently</b><br><br></p>"
   ]
  },
  {
   "cell_type": "markdown",
   "id": "013932a2",
   "metadata": {},
   "source": [
    "<p style=\"font-size:18px; font-family:'Optima'; text-align:justify; text-justify: inter-word; color:LightSlateGray; background-color:GhostWhite\"><br>\n",
    "<b>\n",
    "We successfully decided to host our project on myBinder. We were not sure which platform to choose, but with brainstorming ideas, we finalized that myBinder works best for our project.<br>\n",
    "The idea of following a storyline is also accomplished here, where we could provide clear explanations of how the data is converted to visualizations and what insights we provided with the same.<br><br>\n",
    "We wanted to create an interactive visualization with the Contextual Plots as well, this is something we could have done differently. However, we decided to focus on our main Dashboard and provide a non-interactive, but insightful visualization for the Contextual Plots as well.\n",
    "</b>\n",
    "<br><br></p>"
   ]
  },
  {
   "cell_type": "markdown",
   "id": "aa47b194",
   "metadata": {},
   "source": [
    "<p style=\"font-size:18px; font-family:'Optima'; text-align:justify; text-justify: inter-word; color:Ivory; background-color:LightSlateGray\"><br>\n",
    "<b>&nbsp;Citations and References</b><br><br></p>"
   ]
  },
  {
   "cell_type": "markdown",
   "id": "0b7768f0",
   "metadata": {},
   "source": [
    "<div style=\"font-size:18px; font-family:'Optima'; text-align:justify; text-justify: inter-word; color:LightSlateGray; background-color:GhostWhite\">\n",
    "\n",
    "<b><p><br>Listed as below:<br><br>\n",
    "       \n",
    "<ul>\n",
    "<li> “Flipkart Fashion Products Dataset - Dataset by Opensnippets.” Data.World, 27 Feb. 2022, data.world/opensnippets/flipkart-fashion-products-dataset. </li><br>\n",
    "    \n",
    "<li> Bqplot. “Dynamically Adjust Figure Axes with Range Slider · Issue #712 · Bqplot/Bqplot.” GitHub, github.com/bqplot/bqplot/issues/712. Accessed 6 May 2022. </li><br>\n",
    "\n",
    "<li> Norris, Will. “A Complete Guide to Plotting Categorical Variables with Seaborn.” Medium, 30 Dec. 2021, towardsdatascience.com/a-complete-guide-to-plotting-categorical-variables-with-seaborn-bfe54db66bec. </li><br>\n",
    "\n",
    "<li> “Women’s Shoe Prices - Dataset by Datafiniti.” Data.World, 28 Apr. 2022, data.world/datafiniti/womens-shoe-prices. </li><br>\n",
    "\n",
    "<li> “Men’s Shoe Prices - Dataset by Datafiniti.” Data.World, 3 May 2022, data.world/datafiniti/mens-shoe-prices. </li><br>\n",
    "    \n",
    "<li> “Amazon and Best Buy Electronics - Dataset by Datafiniti.” Data.World, 4 May 2022, data.world/datafiniti/amazon-and-best-buy-electronics. </li><br>\n",
    "    \n",
    "<li> “The Cost of a Designer Label.” Datafiniti, 16 Aug. 2018, datafiniti.co/cost-of-designer-label. </li><br>\n",
    "    \n",
    "<li> https://datafiniti.co/wp-content/uploads/2016/03/distributions-533x1024.png </li><br>\n",
    "    \n",
    "\n",
    "</ul>\n",
    "    \n",
    "<br></p></b>\n",
    "</div>"
   ]
  },
  {
   "cell_type": "code",
   "execution_count": null,
   "id": "b976fac7",
   "metadata": {},
   "outputs": [],
   "source": []
  }
 ],
 "metadata": {
  "kernelspec": {
   "display_name": "Python 3 (ipykernel)",
   "language": "python",
   "name": "python3"
  },
  "language_info": {
   "codemirror_mode": {
    "name": "ipython",
    "version": 3
   },
   "file_extension": ".py",
   "mimetype": "text/x-python",
   "name": "python",
   "nbconvert_exporter": "python",
   "pygments_lexer": "ipython3",
   "version": "3.7.12"
  }
 },
 "nbformat": 4,
 "nbformat_minor": 5
}
